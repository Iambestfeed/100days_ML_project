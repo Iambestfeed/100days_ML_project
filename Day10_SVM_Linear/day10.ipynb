{
 "cells": [
  {
   "cell_type": "code",
   "execution_count": 1,
   "metadata": {
    "metadata": {}
   },
   "outputs": [],
   "source": [
    "import numpy as np\n",
    "from sklearn.datasets import load_iris\n",
    "from sklearn.preprocessing import StandardScaler\n",
    "from sklearn.model_selection import train_test_split"
   ]
  },
  {
   "cell_type": "code",
   "execution_count": 2,
   "metadata": {
    "metadata": {}
   },
   "outputs": [],
   "source": [
    "class Perceptron:\n",
    "    def __init__(self, learning_rate=0.01, max_epochs=1000):\n",
    "        \"\"\"\n",
    "        Initialize the Perceptron model.\n",
    "\n",
    "        Parameters:\n",
    "            learning_rate (float): The step size for weight updates.\n",
    "            max_epochs (int): The maximum number of training iterations.\n",
    "        \"\"\"\n",
    "        self.learning_rate = learning_rate\n",
    "        self.max_epochs = max_epochs\n",
    "        self.weights = None\n",
    "        self.bias = None\n",
    "\n",
    "    def step_function(self, z):\n",
    "        \"\"\"\n",
    "        Step activation function.\n",
    "\n",
    "        Parameters:\n",
    "            z (float or np.array): Input value(s).\n",
    "\n",
    "        Returns:\n",
    "            int or np.array: 1 if z >= 0, else 0.\n",
    "        \"\"\"\n",
    "        return np.where(z >= 0, 1, 0)\n",
    "\n",
    "    def fit(self, X, y):\n",
    "        \"\"\"\n",
    "        Train the Perceptron using the perceptron learning rule.\n",
    "\n",
    "        Parameters:\n",
    "            X (np.array): Feature matrix of shape (n_samples, n_features).\n",
    "            y (np.array): Target labels (0 or 1).\n",
    "        \"\"\"\n",
    "        n_samples, n_features = X.shape\n",
    "        self.weights = np.zeros(n_features)\n",
    "        self.bias = 0\n",
    "\n",
    "        for _ in range(self.max_epochs):\n",
    "            for i in range(n_samples):\n",
    "                y_pred = self.step_function(np.dot(X[i], self.weights) + self.bias)\n",
    "                update = self.learning_rate * (y[i] - y_pred)\n",
    "                self.weights += update * X[i]\n",
    "                self.bias += update  # Bias update\n",
    "\n",
    "    def predict(self, X):\n",
    "        \"\"\"\n",
    "        Predict the class labels.\n",
    "\n",
    "        Parameters:\n",
    "            X (np.array): Feature matrix.\n",
    "\n",
    "        Returns:\n",
    "            np.array: Predicted labels (0 or 1).\n",
    "        \"\"\"\n",
    "        return self.step_function(np.dot(X, self.weights) + self.bias)\n"
   ]
  },
  {
   "cell_type": "code",
   "execution_count": 7,
   "metadata": {
    "metadata": {}
   },
   "outputs": [
    {
     "name": "stdout",
     "output_type": "stream",
     "text": [
      "\n",
      "Test accuracy: 0.7333\n"
     ]
    }
   ],
   "source": [
    "iris = load_iris()\n",
    "X, y = iris.data, iris.target\n",
    "    \n",
    "# Scale features\n",
    "scaler = StandardScaler()\n",
    "X = scaler.fit_transform(X)\n",
    "    \n",
    "# Split data\n",
    "X_train, X_test, y_train, y_test = train_test_split(\n",
    "        X, y, test_size=0.2, random_state=242025\n",
    ")\n",
    "    \n",
    "# Train model\n",
    "model = Perceptron(learning_rate=0.01, max_epochs=100)\n",
    "model.fit(X_train, y_train)\n",
    "    \n",
    "# Evaluate\n",
    "y_pred = model.predict(X_test)\n",
    "accuracy = np.mean(y_pred == y_test)\n",
    "print(f\"\\nTest accuracy: {accuracy:.4f}\")"
   ]
  },
  {
   "cell_type": "code",
   "execution_count": null,
   "metadata": {},
   "outputs": [],
   "source": []
  }
 ],
 "metadata": {
  "kernelspec": {
   "display_name": "ml100",
   "language": "python",
   "name": "python3"
  },
  "language_info": {
   "codemirror_mode": {
    "name": "ipython",
    "version": 3
   },
   "file_extension": ".py",
   "mimetype": "text/x-python",
   "name": "python",
   "nbconvert_exporter": "python",
   "pygments_lexer": "ipython3",
   "version": "3.10.16"
  }
 },
 "nbformat": 4,
 "nbformat_minor": 2
}
