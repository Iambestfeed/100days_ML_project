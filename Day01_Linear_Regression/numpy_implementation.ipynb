{
 "cells": [
  {
   "cell_type": "markdown",
   "metadata": {},
   "source": [
    "# Import"
   ]
  },
  {
   "cell_type": "code",
   "execution_count": 1,
   "metadata": {
    "metadata": {}
   },
   "outputs": [],
   "source": [
    "import numpy as np"
   ]
  },
  {
   "cell_type": "code",
   "execution_count": 2,
   "metadata": {
    "metadata": {}
   },
   "outputs": [],
   "source": [
    "def MSE(y_pred : np.array, y : np.array):\n",
    "    return np.mean((y_pred - y) ** 2)"
   ]
  },
  {
   "cell_type": "code",
   "execution_count": 3,
   "metadata": {
    "metadata": {}
   },
   "outputs": [],
   "source": [
    "class LinearRegressionImplement:\n",
    "    def __init__(self, learning_rate=0.01, epochs=100):\n",
    "        self.lr = learning_rate    # Learning rate\n",
    "        self.epochs = epochs       # Number of iterations\n",
    "        self.weights = None        # Model parameters (weights + bias)\n",
    "        self.loss_history = []     # Track MSE loss over epochs\n",
    "\n",
    "    def fit(self, X, y):\n",
    "        # Add a bias term (column of ones) to X\n",
    "        X_b = np.concatenate((np.ones((X.shape[0], 1)), X), axis=1) \n",
    "        \n",
    "        # Initialize weights (including bias)\n",
    "        n_features = X_b.shape[1]\n",
    "        self.weights = np.random.randn(n_features)\n",
    "        \n",
    "        # Training loop\n",
    "        for epoch in range(self.epochs):\n",
    "            # Shuffle data to avoid order bias\n",
    "            shuffled_indices = np.random.permutation(X_b.shape[0])\n",
    "            X_shuffled = X_b[shuffled_indices]\n",
    "            y_shuffled = y[shuffled_indices]\n",
    "            \n",
    "            # Update weights for each data point (SGD)\n",
    "            for i in range(X_shuffled.shape[0]):\n",
    "                xi = X_shuffled[i]\n",
    "                yi = y_shuffled[i]\n",
    "                \n",
    "                # Compute prediction and error\n",
    "                y_pred = np.dot(xi, self.weights)\n",
    "                error = y_pred - yi\n",
    "                \n",
    "                # Update weights: θ := θ - η * (y_pred - y) * x\n",
    "                self.weights -= self.lr * error * xi\n",
    "            \n",
    "            # Track MSE loss (optional)\n",
    "            y_pred_all = np.dot(X_b, self.weights)\n",
    "            mse = MSE(y_pred_all, y)\n",
    "            self.loss_history.append(mse)\n",
    "            \n",
    "        return self\n",
    "    \n",
    "    def predict(self, X):\n",
    "        # Add bias term and compute predictions\n",
    "        X_b = np.concatenate((np.ones((X.shape[0], 1)), X), axis=1)\n",
    "        return np.dot(X_b, self.weights)"
   ]
  },
  {
   "cell_type": "markdown",
   "metadata": {},
   "source": [
    "# Test "
   ]
  },
  {
   "cell_type": "markdown",
   "metadata": {},
   "source": [
    "## 1 feature"
   ]
  },
  {
   "cell_type": "code",
   "execution_count": 4,
   "metadata": {
    "metadata": {}
   },
   "outputs": [],
   "source": [
    "np.random.seed(42)\n",
    "(n, m) = (100, 1)\n",
    "X = np.random.rand(n, m)  # Shape (100, 3)\n",
    "w = [2]\n",
    "bias = 3\n",
    "y = bias + X@w + np.random.randn(n)  # y = 3 + 2X1 + noise"
   ]
  },
  {
   "cell_type": "code",
   "execution_count": 5,
   "metadata": {
    "metadata": {}
   },
   "outputs": [
    {
     "name": "stdout",
     "output_type": "stream",
     "text": [
      "Weights: [bias, coefficients]: [3.11090949 1.52785224]\n"
     ]
    }
   ],
   "source": [
    "# Initialize and fit the model\n",
    "model = LinearRegressionImplement(learning_rate=0.1, epochs=50)\n",
    "model.fit(X, y)\n",
    "\n",
    "# Final weights (bias term is the first element)\n",
    "print(\"Weights: [bias, coefficients]:\", model.weights)"
   ]
  },
  {
   "cell_type": "markdown",
   "metadata": {},
   "source": [
    "## 3 features"
   ]
  },
  {
   "cell_type": "code",
   "execution_count": 6,
   "metadata": {
    "metadata": {}
   },
   "outputs": [],
   "source": [
    "np.random.seed(42)\n",
    "(n, m) = (100, 3)\n",
    "X = 2 * np.random.rand(n, m)  # Shape (100, 3)\n",
    "w = [2, 1.5, -0.5]\n",
    "bias = 3\n",
    "y = bias + X@w + np.random.randn(n)  # y = 3 + 2X1 + 1.5X2 - 0.5X3 + noise"
   ]
  },
  {
   "cell_type": "code",
   "execution_count": 7,
   "metadata": {
    "metadata": {}
   },
   "outputs": [
    {
     "name": "stdout",
     "output_type": "stream",
     "text": [
      "Weights: [bias, coefficients]: [ 2.62027092  1.82983311  1.02653569 -0.06570636]\n"
     ]
    }
   ],
   "source": [
    "# Initialize and fit the model\n",
    "model = LinearRegressionImplement(learning_rate=0.1, epochs=50)\n",
    "model.fit(X, y)\n",
    "\n",
    "# Final weights (bias term is the first element)\n",
    "print(\"Weights: [bias, coefficients]:\", model.weights)"
   ]
  }
 ],
 "metadata": {
  "kernelspec": {
   "display_name": "ml100",
   "language": "python",
   "name": "python3"
  },
  "language_info": {
   "codemirror_mode": {
    "name": "ipython",
    "version": 3
   },
   "file_extension": ".py",
   "mimetype": "text/x-python",
   "name": "python",
   "nbconvert_exporter": "python",
   "pygments_lexer": "ipython3",
   "version": "undefined.undefined.undefined"
  }
 },
 "nbformat": 4,
 "nbformat_minor": 2
}
